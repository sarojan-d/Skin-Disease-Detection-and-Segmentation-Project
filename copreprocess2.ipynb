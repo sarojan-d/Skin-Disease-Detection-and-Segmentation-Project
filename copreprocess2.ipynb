{
 "cells": [
  {
   "cell_type": "code",
   "execution_count": 5,
   "metadata": {},
   "outputs": [
    {
     "ename": "TypeError",
     "evalue": "'>' not supported between instances of 'JpegImageFile' and 'int'",
     "output_type": "error",
     "traceback": [
      "\u001b[1;31m---------------------------------------------------------------------------\u001b[0m",
      "\u001b[1;31mTypeError\u001b[0m                                 Traceback (most recent call last)",
      "Cell \u001b[1;32mIn[5], line 41\u001b[0m\n\u001b[0;32m     38\u001b[0m cv2\u001b[38;5;241m.\u001b[39mimwrite(preprocessed_image_path, preprocessed_image)\n\u001b[0;32m     40\u001b[0m \u001b[38;5;66;03m# Create mask and annotation\u001b[39;00m\n\u001b[1;32m---> 41\u001b[0m mask \u001b[38;5;241m=\u001b[39m \u001b[43mcreate_masks_and_annotations\u001b[49m\u001b[43m(\u001b[49m\u001b[43mimage_path\u001b[49m\u001b[43m)\u001b[49m\n\u001b[0;32m     42\u001b[0m mask_path \u001b[38;5;241m=\u001b[39m os\u001b[38;5;241m.\u001b[39mpath\u001b[38;5;241m.\u001b[39mjoin(mask_dir, os\u001b[38;5;241m.\u001b[39mpath\u001b[38;5;241m.\u001b[39mbasename(image_path)\u001b[38;5;241m.\u001b[39mreplace(\u001b[38;5;124m'\u001b[39m\u001b[38;5;124m.jpg\u001b[39m\u001b[38;5;124m'\u001b[39m, \u001b[38;5;124m'\u001b[39m\u001b[38;5;124m_mask.png\u001b[39m\u001b[38;5;124m'\u001b[39m))\n\u001b[0;32m     43\u001b[0m cv2\u001b[38;5;241m.\u001b[39mimwrite(mask_path, mask)\n",
      "Cell \u001b[1;32mIn[5], line 30\u001b[0m, in \u001b[0;36mcreate_masks_and_annotations\u001b[1;34m(image_path)\u001b[0m\n\u001b[0;32m     27\u001b[0m mask \u001b[38;5;241m=\u001b[39m np\u001b[38;5;241m.\u001b[39mzeros((image\u001b[38;5;241m.\u001b[39mheight, image\u001b[38;5;241m.\u001b[39mwidth), dtype\u001b[38;5;241m=\u001b[39mnp\u001b[38;5;241m.\u001b[39muint8)\n\u001b[0;32m     28\u001b[0m \u001b[38;5;66;03m# Assuming masks are created based on some condition, e.g., thresholding\u001b[39;00m\n\u001b[0;32m     29\u001b[0m \u001b[38;5;66;03m# Update this logic based on your specific requirements\u001b[39;00m\n\u001b[1;32m---> 30\u001b[0m mask[\u001b[43mimage\u001b[49m\u001b[43m \u001b[49m\u001b[38;5;241;43m>\u001b[39;49m\u001b[43m \u001b[49m\u001b[38;5;241;43m128\u001b[39;49m] \u001b[38;5;241m=\u001b[39m \u001b[38;5;241m255\u001b[39m\n\u001b[0;32m     31\u001b[0m \u001b[38;5;28;01mreturn\u001b[39;00m mask\n",
      "\u001b[1;31mTypeError\u001b[0m: '>' not supported between instances of 'JpegImageFile' and 'int'"
     ]
    }
   ],
   "source": [
    "import os\n",
    "import cv2\n",
    "import numpy as np\n",
    "from glob import glob\n",
    "from PIL import Image\n",
    "\n",
    "# Paths (update these paths based on your setup)\n",
    "image_dir = 'HAM10000_combined'\n",
    "mask_dir = 'HAM10000_segmentations'\n",
    "preprocessed_dir = 'preprocessed_images'\n",
    "annotations_dir = 'annotations'\n",
    "\n",
    "# Create directories if they don't exist\n",
    "os.makedirs(mask_dir, exist_ok=True)\n",
    "os.makedirs(preprocessed_dir, exist_ok=True)\n",
    "os.makedirs(annotations_dir, exist_ok=True)\n",
    "\n",
    "# Function to preprocess images\n",
    "def preprocess_image(image_path):\n",
    "    image = cv2.imread(image_path)\n",
    "    image = cv2.resize(image, (224, 224))\n",
    "    return image\n",
    "\n",
    "# Function to create masks and annotations\n",
    "def create_masks_and_annotations(image_path):\n",
    "    image = Image.open(image_path)\n",
    "    image_np = np.array(image)\n",
    "    mask = np.zeros((image_np.shape[0], image_np.shape[1]), dtype=np.uint8)\n",
    "    # Assuming masks are created based on some condition, e.g., thresholding\n",
    "    # Update this logic based on your specific requirements\n",
    "    mask[image_np > 128] = 255\n",
    "    return mask\n",
    "\n",
    "# Process each image\n",
    "for image_path in glob(os.path.join(image_dir, '*.jpg')):\n",
    "    # Preprocess image\n",
    "    preprocessed_image = preprocess_image(image_path)\n",
    "    preprocessed_image_path = os.path.join(preprocessed_dir, os.path.basename(image_path))\n",
    "    cv2.imwrite(preprocessed_image_path, preprocessed_image)\n",
    "\n",
    "    # Create mask and annotation\n",
    "    mask = create_masks_and_annotations(image_path)\n",
    "    mask_path = os.path.join(mask_dir, os.path.basename(image_path).replace('.jpg', '_mask.png'))\n",
    "    cv2.imwrite(mask_path, mask)\n",
    "\n",
    "    # Create annotation (bounding box)\n",
    "    contours, _ = cv2.findContours(mask, cv2.RETR_EXTERNAL, cv2.CHAIN_APPROX_SIMPLE)\n",
    "    annotation_path = os.path.join(annotations_dir, os.path.basename(image_path).replace('.jpg', '.txt'))\n",
    "    with open(annotation_path, 'w') as f:\n",
    "        for contour in contours:\n",
    "            x, y, w, h = cv2.boundingRect(contour)\n",
    "            f.write(f'{x} {y} {w} {h}\\n')\n",
    "\n",
    "print(\"Processing complete!\")\n"
   ]
  }
 ],
 "metadata": {
  "kernelspec": {
   "display_name": "Python 3",
   "language": "python",
   "name": "python3"
  },
  "language_info": {
   "codemirror_mode": {
    "name": "ipython",
    "version": 3
   },
   "file_extension": ".py",
   "mimetype": "text/x-python",
   "name": "python",
   "nbconvert_exporter": "python",
   "pygments_lexer": "ipython3",
   "version": "3.12.4"
  }
 },
 "nbformat": 4,
 "nbformat_minor": 2
}
